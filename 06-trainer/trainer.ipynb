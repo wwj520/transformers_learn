{
 "cells": [
  {
   "cell_type": "markdown",
   "metadata": {},
   "source": [
    "- 文档： https://huggingface.co/docs/transformers/main_classes/trainer#trainer"
   ]
  },
  {
   "cell_type": "markdown",
   "metadata": {},
   "source": [
    "### 使用流程\n",
    "```python\n",
    "from transformers import Trainer, TrainingArguments\n",
    "# 创建TrainingArguments\n",
    "traning_args = TrainingArguments(...)\n",
    "# 创建Trainer\n",
    "trainer = Trainer(args=traning_args)\n",
    "# 模型训练\n",
    "trainer.train()\n",
    "# 模型评估\n",
    "trainer.evalute()\n",
    "# 模型预测\n",
    "trainer.predict()\n",
    "\n",
    "```\n",
    "\n",
    "### 可视化结果\n",
    "-- 命令启动：tensorboard  --logdir  runs\n",
    "-- 快捷键启动：ctrl + shift + p 输入tensorboard"
   ]
  },
  {
   "cell_type": "markdown",
   "metadata": {},
   "source": []
  }
 ],
 "metadata": {
  "kernelspec": {
   "display_name": "transformers",
   "language": "python",
   "name": "python3"
  },
  "language_info": {
   "codemirror_mode": {
    "name": "ipython",
    "version": 3
   },
   "file_extension": ".py",
   "mimetype": "text/x-python",
   "name": "python",
   "nbconvert_exporter": "python",
   "pygments_lexer": "ipython3",
   "version": "3.9.19"
  }
 },
 "nbformat": 4,
 "nbformat_minor": 2
}
